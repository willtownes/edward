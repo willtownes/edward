{
 "cells": [
  {
   "cell_type": "markdown",
   "metadata": {},
   "source": [
    "Much of the code here is based on the [tutorial on the edward homepage](http://edwardlib.org/getting-started)."
   ]
  },
  {
   "cell_type": "code",
   "execution_count": 115,
   "metadata": {
    "collapsed": true
   },
   "outputs": [],
   "source": [
    "%matplotlib inline\n",
    "#from __future__ import absolute_import\n",
    "#from __future__ import division\n",
    "#from __future__ import print_function\n",
    "\n",
    "import edward as ed\n",
    "import tensorflow as tf\n",
    "import matplotlib.pyplot as plt\n",
    "import numpy as np\n",
    "\n",
    "import statsmodels.api as sm\n",
    "import pandas as pd\n",
    "plt.style.use('ggplot')"
   ]
  },
  {
   "cell_type": "markdown",
   "metadata": {},
   "source": [
    "### Generate Toy Data"
   ]
  },
  {
   "cell_type": "code",
   "execution_count": 142,
   "metadata": {
    "collapsed": false
   },
   "outputs": [
    {
     "data": {
      "text/html": [
       "<div>\n",
       "<table border=\"1\" class=\"dataframe\">\n",
       "  <thead>\n",
       "    <tr style=\"text-align: right;\">\n",
       "      <th></th>\n",
       "      <th>y</th>\n",
       "      <th>x1</th>\n",
       "      <th>x2</th>\n",
       "      <th>x3</th>\n",
       "      <th>x4</th>\n",
       "      <th>x5</th>\n",
       "      <th>x6</th>\n",
       "      <th>x7</th>\n",
       "      <th>x8</th>\n",
       "      <th>x9</th>\n",
       "      <th>intercept</th>\n",
       "    </tr>\n",
       "  </thead>\n",
       "  <tbody>\n",
       "    <tr>\n",
       "      <th>count</th>\n",
       "      <td>50.000000</td>\n",
       "      <td>50.000000</td>\n",
       "      <td>50.000000</td>\n",
       "      <td>50.000000</td>\n",
       "      <td>50.000000</td>\n",
       "      <td>50.000000</td>\n",
       "      <td>50.000000</td>\n",
       "      <td>50.000000</td>\n",
       "      <td>50.000000</td>\n",
       "      <td>50.000000</td>\n",
       "      <td>50.0</td>\n",
       "    </tr>\n",
       "    <tr>\n",
       "      <th>mean</th>\n",
       "      <td>23.384070</td>\n",
       "      <td>4.836309</td>\n",
       "      <td>4.963879</td>\n",
       "      <td>4.989808</td>\n",
       "      <td>5.260380</td>\n",
       "      <td>5.554120</td>\n",
       "      <td>4.625539</td>\n",
       "      <td>5.121171</td>\n",
       "      <td>5.308879</td>\n",
       "      <td>5.288181</td>\n",
       "      <td>1.0</td>\n",
       "    </tr>\n",
       "    <tr>\n",
       "      <th>std</th>\n",
       "      <td>12.855284</td>\n",
       "      <td>3.224284</td>\n",
       "      <td>3.814252</td>\n",
       "      <td>2.615122</td>\n",
       "      <td>3.590815</td>\n",
       "      <td>2.780492</td>\n",
       "      <td>2.799095</td>\n",
       "      <td>3.398372</td>\n",
       "      <td>2.817629</td>\n",
       "      <td>2.750973</td>\n",
       "      <td>0.0</td>\n",
       "    </tr>\n",
       "    <tr>\n",
       "      <th>min</th>\n",
       "      <td>-7.299795</td>\n",
       "      <td>-1.874615</td>\n",
       "      <td>-5.542771</td>\n",
       "      <td>-0.452938</td>\n",
       "      <td>-1.958665</td>\n",
       "      <td>-2.984214</td>\n",
       "      <td>-0.980152</td>\n",
       "      <td>-1.655071</td>\n",
       "      <td>-0.194498</td>\n",
       "      <td>0.078327</td>\n",
       "      <td>1.0</td>\n",
       "    </tr>\n",
       "    <tr>\n",
       "      <th>25%</th>\n",
       "      <td>12.978215</td>\n",
       "      <td>2.818632</td>\n",
       "      <td>2.492646</td>\n",
       "      <td>3.092965</td>\n",
       "      <td>2.969495</td>\n",
       "      <td>3.978911</td>\n",
       "      <td>2.492299</td>\n",
       "      <td>3.061074</td>\n",
       "      <td>3.239619</td>\n",
       "      <td>3.218325</td>\n",
       "      <td>1.0</td>\n",
       "    </tr>\n",
       "    <tr>\n",
       "      <th>50%</th>\n",
       "      <td>28.323240</td>\n",
       "      <td>4.619567</td>\n",
       "      <td>5.187071</td>\n",
       "      <td>4.535591</td>\n",
       "      <td>4.583960</td>\n",
       "      <td>5.588893</td>\n",
       "      <td>4.293423</td>\n",
       "      <td>4.907327</td>\n",
       "      <td>5.338527</td>\n",
       "      <td>5.141689</td>\n",
       "      <td>1.0</td>\n",
       "    </tr>\n",
       "    <tr>\n",
       "      <th>75%</th>\n",
       "      <td>32.097330</td>\n",
       "      <td>6.607846</td>\n",
       "      <td>7.213141</td>\n",
       "      <td>6.704644</td>\n",
       "      <td>7.287659</td>\n",
       "      <td>7.279875</td>\n",
       "      <td>5.743156</td>\n",
       "      <td>7.503283</td>\n",
       "      <td>7.020034</td>\n",
       "      <td>7.181113</td>\n",
       "      <td>1.0</td>\n",
       "    </tr>\n",
       "    <tr>\n",
       "      <th>max</th>\n",
       "      <td>48.212100</td>\n",
       "      <td>12.485242</td>\n",
       "      <td>12.981450</td>\n",
       "      <td>11.099692</td>\n",
       "      <td>16.110177</td>\n",
       "      <td>13.013816</td>\n",
       "      <td>10.887334</td>\n",
       "      <td>12.356382</td>\n",
       "      <td>10.870269</td>\n",
       "      <td>11.280329</td>\n",
       "      <td>1.0</td>\n",
       "    </tr>\n",
       "  </tbody>\n",
       "</table>\n",
       "</div>"
      ],
      "text/plain": [
       "               y         x1         x2         x3         x4         x5  \\\n",
       "count  50.000000  50.000000  50.000000  50.000000  50.000000  50.000000   \n",
       "mean   23.384070   4.836309   4.963879   4.989808   5.260380   5.554120   \n",
       "std    12.855284   3.224284   3.814252   2.615122   3.590815   2.780492   \n",
       "min    -7.299795  -1.874615  -5.542771  -0.452938  -1.958665  -2.984214   \n",
       "25%    12.978215   2.818632   2.492646   3.092965   2.969495   3.978911   \n",
       "50%    28.323240   4.619567   5.187071   4.535591   4.583960   5.588893   \n",
       "75%    32.097330   6.607846   7.213141   6.704644   7.287659   7.279875   \n",
       "max    48.212100  12.485242  12.981450  11.099692  16.110177  13.013816   \n",
       "\n",
       "              x6         x7         x8         x9  intercept  \n",
       "count  50.000000  50.000000  50.000000  50.000000       50.0  \n",
       "mean    4.625539   5.121171   5.308879   5.288181        1.0  \n",
       "std     2.799095   3.398372   2.817629   2.750973        0.0  \n",
       "min    -0.980152  -1.655071  -0.194498   0.078327        1.0  \n",
       "25%     2.492299   3.061074   3.239619   3.218325        1.0  \n",
       "50%     4.293423   4.907327   5.338527   5.141689        1.0  \n",
       "75%     5.743156   7.503283   7.020034   7.181113        1.0  \n",
       "max    10.887334  12.356382  10.870269  11.280329        1.0  "
      ]
     },
     "execution_count": 142,
     "metadata": {},
     "output_type": "execute_result"
    }
   ],
   "source": [
    "#super basic example: linear regression with homoskedastic errors\n",
    "#Y~N(mu+Xb,sigma2)\n",
    "# X is an 50x9 matrix where each column is gaussian(5,sd=3)\n",
    "N = 50\n",
    "Ntest = 40\n",
    "Xtrain = np.array([np.random.normal(5,3,size=N) for i in range(9)]).T\n",
    "Xtest = np.array([np.random.normal(5,3,size=Ntest) for i in range(9)]).T\n",
    "#X is a 50x9 design matrix of continuous covariates\n",
    "#print(\"colmeans: \", np.mean(X,0)) #column means, should be about 5\n",
    "#print(\"col sds: \", np.std(X,0)) #column stdevs, should be about 3\n",
    "beta0 = 33\n",
    "beta = np.array([-3,-1.5,-.5,-.25,-0.01,0.01,.5,1,1.5])\n",
    "#strong negative: 1,2\n",
    "#weak negative: 3,4\n",
    "#insignificant effects: 5,6\n",
    "#weak positive: 7\n",
    "#strong positive: 8,9\n",
    "sigma = 4 #fairly high level of noise\n",
    "yhat = Xtrain.dot(beta)+beta0\n",
    "ytrain = yhat+np.random.normal(0,sigma,size=N)\n",
    "ytest = Xtest.dot(beta)+beta0+np.random.normal(0,sigma,size=Ntest)\n",
    "df = pd.DataFrame(np.hstack((ytrain.reshape(N,1),Xtrain)))\n",
    "df.columns = [\"y\"]+[\"x\"+str(i) for i in range(1,10)]\n",
    "dftest = pd.DataFrame(np.hstack((ytest.reshape(Ntest,1),Xtest)))\n",
    "dftest.columns = df.columns\n",
    "df[\"intercept\"]=1.0\n",
    "dftest[\"intercept\"] = 1.0\n",
    "#df.head()\n",
    "df.describe()"
   ]
  },
  {
   "cell_type": "markdown",
   "metadata": {},
   "source": [
    "### Maximum Likelihood\n",
    "\n",
    "First we will try the frequentist approach of maximum likelihood, provided in python by the **statsmodels** package"
   ]
  },
  {
   "cell_type": "code",
   "execution_count": 143,
   "metadata": {
    "collapsed": false
   },
   "outputs": [
    {
     "data": {
      "text/html": [
       "<table class=\"simpletable\">\n",
       "<caption>Generalized Linear Model Regression Results</caption>\n",
       "<tr>\n",
       "  <th>Dep. Variable:</th>          <td>y</td>        <th>  No. Observations:  </th>    <td>    50</td>    \n",
       "</tr>\n",
       "<tr>\n",
       "  <th>Model:</th>                 <td>GLM</td>       <th>  Df Residuals:      </th>    <td>    40</td>    \n",
       "</tr>\n",
       "<tr>\n",
       "  <th>Model Family:</th>       <td>Gaussian</td>     <th>  Df Model:          </th>    <td>     9</td>    \n",
       "</tr>\n",
       "<tr>\n",
       "  <th>Link Function:</th>      <td>identity</td>     <th>  Scale:             </th> <td>15.8958780605</td>\n",
       "</tr>\n",
       "<tr>\n",
       "  <th>Method:</th>               <td>IRLS</td>       <th>  Log-Likelihood:    </th>   <td> -134.52</td>   \n",
       "</tr>\n",
       "<tr>\n",
       "  <th>Date:</th>           <td>Tue, 21 Mar 2017</td> <th>  Deviance:          </th>   <td>  635.84</td>   \n",
       "</tr>\n",
       "<tr>\n",
       "  <th>Time:</th>               <td>13:30:41</td>     <th>  Pearson chi2:      </th>    <td>  636.</td>    \n",
       "</tr>\n",
       "<tr>\n",
       "  <th>No. Iterations:</th>         <td>4</td>        <th>                     </th>       <td> </td>      \n",
       "</tr>\n",
       "</table>\n",
       "<table class=\"simpletable\">\n",
       "<tr>\n",
       "      <td></td>         <th>coef</th>     <th>std err</th>      <th>z</th>      <th>P>|z|</th> <th>[95.0% Conf. Int.]</th> \n",
       "</tr>\n",
       "<tr>\n",
       "  <th>x1</th>        <td>   -2.9529</td> <td>    0.185</td> <td>  -16.000</td> <td> 0.000</td> <td>   -3.315    -2.591</td>\n",
       "</tr>\n",
       "<tr>\n",
       "  <th>x2</th>        <td>   -1.6224</td> <td>    0.153</td> <td>  -10.631</td> <td> 0.000</td> <td>   -1.922    -1.323</td>\n",
       "</tr>\n",
       "<tr>\n",
       "  <th>x3</th>        <td>   -0.8141</td> <td>    0.223</td> <td>   -3.644</td> <td> 0.000</td> <td>   -1.252    -0.376</td>\n",
       "</tr>\n",
       "<tr>\n",
       "  <th>x4</th>        <td>   -0.3460</td> <td>    0.173</td> <td>   -2.002</td> <td> 0.045</td> <td>   -0.685    -0.007</td>\n",
       "</tr>\n",
       "<tr>\n",
       "  <th>x5</th>        <td>    0.1192</td> <td>    0.213</td> <td>    0.559</td> <td> 0.576</td> <td>   -0.298     0.537</td>\n",
       "</tr>\n",
       "<tr>\n",
       "  <th>x6</th>        <td>   -0.1766</td> <td>    0.225</td> <td>   -0.785</td> <td> 0.432</td> <td>   -0.617     0.264</td>\n",
       "</tr>\n",
       "<tr>\n",
       "  <th>x7</th>        <td>    0.6477</td> <td>    0.185</td> <td>    3.505</td> <td> 0.000</td> <td>    0.286     1.010</td>\n",
       "</tr>\n",
       "<tr>\n",
       "  <th>x8</th>        <td>    0.9531</td> <td>    0.210</td> <td>    4.549</td> <td> 0.000</td> <td>    0.542     1.364</td>\n",
       "</tr>\n",
       "<tr>\n",
       "  <th>x9</th>        <td>    1.5750</td> <td>    0.230</td> <td>    6.843</td> <td> 0.000</td> <td>    1.124     2.026</td>\n",
       "</tr>\n",
       "<tr>\n",
       "  <th>intercept</th> <td>   35.0498</td> <td>    2.914</td> <td>   12.029</td> <td> 0.000</td> <td>   29.339    40.761</td>\n",
       "</tr>\n",
       "</table>"
      ],
      "text/plain": [
       "<class 'statsmodels.iolib.summary.Summary'>\n",
       "\"\"\"\n",
       "                 Generalized Linear Model Regression Results                  \n",
       "==============================================================================\n",
       "Dep. Variable:                      y   No. Observations:                   50\n",
       "Model:                            GLM   Df Residuals:                       40\n",
       "Model Family:                Gaussian   Df Model:                            9\n",
       "Link Function:               identity   Scale:                   15.8958780605\n",
       "Method:                          IRLS   Log-Likelihood:                -134.52\n",
       "Date:                Tue, 21 Mar 2017   Deviance:                       635.84\n",
       "Time:                        13:30:41   Pearson chi2:                     636.\n",
       "No. Iterations:                     4                                         \n",
       "==============================================================================\n",
       "                 coef    std err          z      P>|z|      [95.0% Conf. Int.]\n",
       "------------------------------------------------------------------------------\n",
       "x1            -2.9529      0.185    -16.000      0.000        -3.315    -2.591\n",
       "x2            -1.6224      0.153    -10.631      0.000        -1.922    -1.323\n",
       "x3            -0.8141      0.223     -3.644      0.000        -1.252    -0.376\n",
       "x4            -0.3460      0.173     -2.002      0.045        -0.685    -0.007\n",
       "x5             0.1192      0.213      0.559      0.576        -0.298     0.537\n",
       "x6            -0.1766      0.225     -0.785      0.432        -0.617     0.264\n",
       "x7             0.6477      0.185      3.505      0.000         0.286     1.010\n",
       "x8             0.9531      0.210      4.549      0.000         0.542     1.364\n",
       "x9             1.5750      0.230      6.843      0.000         1.124     2.026\n",
       "intercept     35.0498      2.914     12.029      0.000        29.339    40.761\n",
       "==============================================================================\n",
       "\"\"\""
      ]
     },
     "execution_count": 143,
     "metadata": {},
     "output_type": "execute_result"
    }
   ],
   "source": [
    "mod1 = sm.GLM(df[\"y\"],df[df.columns[1:]],family=sm.families.Gaussian())\n",
    "mod1 = mod1.fit()\n",
    "mod1.summary()"
   ]
  },
  {
   "cell_type": "code",
   "execution_count": 144,
   "metadata": {
    "collapsed": false
   },
   "outputs": [
    {
     "data": {
      "text/plain": [
       "4.3493895166547709"
      ]
     },
     "execution_count": 144,
     "metadata": {},
     "output_type": "execute_result"
    }
   ],
   "source": [
    "ypred1 = mod1.predict(dftest[dftest.columns[1:]])\n",
    "#root mean square prediction error\n",
    "err1 = np.sqrt(np.mean((ypred1-ytest)**2))\n",
    "err1 #OLS prediction error"
   ]
  },
  {
   "cell_type": "markdown",
   "metadata": {},
   "source": [
    "## Edward\n",
    "\n",
    "### Maximum Likelihood\n",
    "\n",
    "Edward supports maximum likelihood estimation (point estimates) of model parameters. However, you cannot actually inspect the parameter values. They are hidden inside the result object."
   ]
  },
  {
   "cell_type": "code",
   "execution_count": 212,
   "metadata": {
    "collapsed": false
   },
   "outputs": [
    {
     "name": "stdout",
     "output_type": "stream",
     "text": [
      "Iteration    1 [  0%]\n",
      "Iteration  100 [ 10%]\n",
      "Iteration  200 [ 20%]\n",
      "Iteration  300 [ 30%]\n",
      "Iteration  400 [ 40%]\n",
      "Iteration  500 [ 50%]\n",
      "Iteration  600 [ 60%]\n",
      "Iteration  700 [ 70%]\n",
      "Iteration  800 [ 80%]\n",
      "Iteration  900 [ 90%]\n",
      "Iteration 1000 [100%]\n"
     ]
    }
   ],
   "source": [
    "from edward.models import Normal\n",
    "\n",
    "D = Xtest.shape[1]\n",
    "X = tf.placeholder(tf.float32, [N, D]) #placeholder for data\n",
    "#define likelihood and specify model parameters as variables (ie no priors)\n",
    "b = tf.Variable(tf.zeros(D))\n",
    "b0 = tf.Variable(0.0)\n",
    "b0 = tf.Print(b0,[b0])\n",
    "y = Normal(mu=ed.dot(X, b) + b0, sigma=sigma*tf.ones(N))\n",
    "#use empty dict {} to force MLE instead of bayesian\n",
    "mle = ed.Inference({}, {y:ytrain,X:Xtrain})\n",
    "mle.run()"
   ]
  },
  {
   "cell_type": "code",
   "execution_count": 211,
   "metadata": {
    "collapsed": false
   },
   "outputs": [
    {
     "name": "stdout",
     "output_type": "stream",
     "text": [
      "Mean squared error on test data:\n",
      "549.902\n"
     ]
    }
   ],
   "source": [
    "#sess = ed.get_session()\n",
    "#form posterior predictive distribution\n",
    "Xt = tf.placeholder(tf.float32, [Ntest,D])\n",
    "yt = Normal(ed.dot(Xt,b)+b0,sigma=sigma*tf.ones(Ntest))\n",
    "print(\"Mean squared error on test data:\")\n",
    "print(ed.evaluate('mean_squared_error', data={Xt: Xtest, yt: ytest}))"
   ]
  },
  {
   "cell_type": "markdown",
   "metadata": {},
   "source": [
    "### Maximum A Posteriori\n",
    "Now we will try to solve the same problem using Edward. First attempt is MAP estimation, some code here is copied from [Edward tutorial](http://edwardlib.org/tutorials/supervised-regression)"
   ]
  },
  {
   "cell_type": "code",
   "execution_count": 198,
   "metadata": {
    "collapsed": false
   },
   "outputs": [
    {
     "name": "stdout",
     "output_type": "stream",
     "text": [
      "Help on function get_session in module edward.util.graphs:\n",
      "\n",
      "get_session()\n",
      "    Get the globally defined TensorFlow session.\n",
      "    \n",
      "    If the session is not already defined, then the function will create\n",
      "    a global session.\n",
      "    \n",
      "    Returns\n",
      "    -------\n",
      "    _ED_SESSION : tf.InteractiveSession\n",
      "\n"
     ]
    }
   ],
   "source": [
    "help(ed.get_session)"
   ]
  },
  {
   "cell_type": "code",
   "execution_count": 159,
   "metadata": {
    "collapsed": false
   },
   "outputs": [
    {
     "name": "stdout",
     "output_type": "stream",
     "text": [
      "Iteration    1 [  0%]: Loss = 1236.559\n",
      "Iteration  100 [ 10%]: Loss = 206.707\n",
      "Iteration  200 [ 20%]: Loss = 194.715\n",
      "Iteration  300 [ 30%]: Loss = 184.819\n",
      "Iteration  400 [ 40%]: Loss = 176.409\n",
      "Iteration  500 [ 50%]: Loss = 169.599\n",
      "Iteration  600 [ 60%]: Loss = 164.221\n",
      "Iteration  700 [ 70%]: Loss = 160.027\n",
      "Iteration  800 [ 80%]: Loss = 156.774\n",
      "Iteration  900 [ 90%]: Loss = 154.256\n",
      "Iteration 1000 [100%]: Loss = 152.302\n"
     ]
    }
   ],
   "source": [
    "#define priors for model parameters\n",
    "b = Normal(mu=tf.zeros(D), sigma=tf.ones(D))\n",
    "b0 = Normal(mu=tf.zeros(1), sigma=tf.ones(1))\n",
    "inference = ed.MAP([b0,b], {y:ytrain,X:Xtrain})\n",
    "inference.run()"
   ]
  },
  {
   "cell_type": "code",
   "execution_count": 153,
   "metadata": {
    "collapsed": false
   },
   "outputs": [
    {
     "name": "stdout",
     "output_type": "stream",
     "text": [
      "<edward.inferences.map.MAP object at 0x121b6fb38>\n"
     ]
    }
   ],
   "source": [
    "print(inference)"
   ]
  },
  {
   "cell_type": "code",
   "execution_count": 148,
   "metadata": {
    "collapsed": false
   },
   "outputs": [
    {
     "name": "stdout",
     "output_type": "stream",
     "text": [
      "Iteration    1 [  0%]: Loss = 3020.843\n",
      "Iteration  100 [ 10%]: Loss = 244.376\n",
      "Iteration  200 [ 20%]: Loss = 220.132\n",
      "Iteration  300 [ 30%]: Loss = 219.095\n",
      "Iteration  400 [ 40%]: Loss = 218.850\n",
      "Iteration  500 [ 50%]: Loss = 218.782\n",
      "Iteration  600 [ 60%]: Loss = 218.765\n",
      "Iteration  700 [ 70%]: Loss = 218.761\n",
      "Iteration  800 [ 80%]: Loss = 218.760\n",
      "Iteration  900 [ 90%]: Loss = 218.759\n",
      "Iteration 1000 [100%]: Loss = 218.759\n"
     ]
    }
   ],
   "source": []
  },
  {
   "cell_type": "code",
   "execution_count": 149,
   "metadata": {
    "collapsed": false
   },
   "outputs": [
    {
     "data": {
      "text/plain": [
       "['__class__',\n",
       " '__delattr__',\n",
       " '__dict__',\n",
       " '__dir__',\n",
       " '__doc__',\n",
       " '__eq__',\n",
       " '__format__',\n",
       " '__ge__',\n",
       " '__getattribute__',\n",
       " '__gt__',\n",
       " '__hash__',\n",
       " '__init__',\n",
       " '__init_subclass__',\n",
       " '__le__',\n",
       " '__lt__',\n",
       " '__module__',\n",
       " '__ne__',\n",
       " '__new__',\n",
       " '__reduce__',\n",
       " '__reduce_ex__',\n",
       " '__repr__',\n",
       " '__setattr__',\n",
       " '__sizeof__',\n",
       " '__str__',\n",
       " '__subclasshook__',\n",
       " '__weakref__',\n",
       " 'build_loss_and_gradients',\n",
       " 'coord',\n",
       " 'data',\n",
       " 'debug',\n",
       " 'finalize',\n",
       " 'increment_t',\n",
       " 'initialize',\n",
       " 'latent_vars',\n",
       " 'logging',\n",
       " 'loss',\n",
       " 'n_iter',\n",
       " 'n_print',\n",
       " 'print_progress',\n",
       " 'run',\n",
       " 'scale',\n",
       " 't',\n",
       " 'threads',\n",
       " 'train',\n",
       " 'update']"
      ]
     },
     "execution_count": 149,
     "metadata": {},
     "output_type": "execute_result"
    }
   ],
   "source": [
    "dir(inference)"
   ]
  },
  {
   "cell_type": "code",
   "execution_count": 141,
   "metadata": {
    "collapsed": false
   },
   "outputs": [
    {
     "data": {
      "text/plain": [
       "(50, 1)"
      ]
     },
     "execution_count": 141,
     "metadata": {},
     "output_type": "execute_result"
    }
   ],
   "source": [
    "ytrain.shape"
   ]
  },
  {
   "cell_type": "code",
   "execution_count": null,
   "metadata": {
    "collapsed": true
   },
   "outputs": [],
   "source": []
  }
 ],
 "metadata": {
  "kernelspec": {
   "display_name": "Python 3",
   "language": "python",
   "name": "python3"
  },
  "language_info": {
   "codemirror_mode": {
    "name": "ipython",
    "version": 3
   },
   "file_extension": ".py",
   "mimetype": "text/x-python",
   "name": "python",
   "nbconvert_exporter": "python",
   "pygments_lexer": "ipython3",
   "version": "3.6.0"
  }
 },
 "nbformat": 4,
 "nbformat_minor": 2
}
