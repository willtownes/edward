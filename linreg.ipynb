{
 "cells": [
  {
   "cell_type": "markdown",
   "metadata": {},
   "source": [
    "Much of the code here is based on the [tutorial on the edward homepage](http://edwardlib.org/getting-started)."
   ]
  },
  {
   "cell_type": "code",
   "execution_count": 12,
   "metadata": {
    "collapsed": true
   },
   "outputs": [],
   "source": [
    "%matplotlib inline\n",
    "#from __future__ import absolute_import\n",
    "#from __future__ import division\n",
    "#from __future__ import print_function\n",
    "\n",
    "import edward as ed\n",
    "import tensorflow as tf\n",
    "import matplotlib.pyplot as plt\n",
    "import numpy as np\n",
    "\n",
    "import statsmodels.api as sm\n",
    "import pandas as pd\n",
    "plt.style.use('ggplot')"
   ]
  },
  {
   "cell_type": "markdown",
   "metadata": {},
   "source": [
    "### Generate Toy Data"
   ]
  },
  {
   "cell_type": "code",
   "execution_count": 13,
   "metadata": {
    "collapsed": false
   },
   "outputs": [
    {
     "data": {
      "text/html": [
       "<div>\n",
       "<table border=\"1\" class=\"dataframe\">\n",
       "  <thead>\n",
       "    <tr style=\"text-align: right;\">\n",
       "      <th></th>\n",
       "      <th>y</th>\n",
       "      <th>x1</th>\n",
       "      <th>x2</th>\n",
       "      <th>x3</th>\n",
       "      <th>x4</th>\n",
       "      <th>x5</th>\n",
       "      <th>x6</th>\n",
       "      <th>x7</th>\n",
       "      <th>x8</th>\n",
       "      <th>x9</th>\n",
       "      <th>intercept</th>\n",
       "    </tr>\n",
       "  </thead>\n",
       "  <tbody>\n",
       "    <tr>\n",
       "      <th>count</th>\n",
       "      <td>50.000000</td>\n",
       "      <td>50.000000</td>\n",
       "      <td>50.000000</td>\n",
       "      <td>50.000000</td>\n",
       "      <td>50.000000</td>\n",
       "      <td>50.000000</td>\n",
       "      <td>50.000000</td>\n",
       "      <td>50.000000</td>\n",
       "      <td>50.000000</td>\n",
       "      <td>50.000000</td>\n",
       "      <td>50.0</td>\n",
       "    </tr>\n",
       "    <tr>\n",
       "      <th>mean</th>\n",
       "      <td>24.038840</td>\n",
       "      <td>4.413367</td>\n",
       "      <td>5.134101</td>\n",
       "      <td>4.317427</td>\n",
       "      <td>5.095714</td>\n",
       "      <td>4.368622</td>\n",
       "      <td>5.568713</td>\n",
       "      <td>5.822354</td>\n",
       "      <td>5.006309</td>\n",
       "      <td>4.672567</td>\n",
       "      <td>1.0</td>\n",
       "    </tr>\n",
       "    <tr>\n",
       "      <th>std</th>\n",
       "      <td>10.687380</td>\n",
       "      <td>2.618149</td>\n",
       "      <td>2.883398</td>\n",
       "      <td>2.803299</td>\n",
       "      <td>3.212930</td>\n",
       "      <td>3.175544</td>\n",
       "      <td>2.876165</td>\n",
       "      <td>2.989535</td>\n",
       "      <td>3.340791</td>\n",
       "      <td>3.293853</td>\n",
       "      <td>0.0</td>\n",
       "    </tr>\n",
       "    <tr>\n",
       "      <th>min</th>\n",
       "      <td>1.390038</td>\n",
       "      <td>-1.160841</td>\n",
       "      <td>-0.336608</td>\n",
       "      <td>-2.503885</td>\n",
       "      <td>-3.023784</td>\n",
       "      <td>-1.811805</td>\n",
       "      <td>0.027005</td>\n",
       "      <td>-1.374110</td>\n",
       "      <td>-3.734738</td>\n",
       "      <td>-2.741706</td>\n",
       "      <td>1.0</td>\n",
       "    </tr>\n",
       "    <tr>\n",
       "      <th>25%</th>\n",
       "      <td>17.818256</td>\n",
       "      <td>2.318125</td>\n",
       "      <td>2.573311</td>\n",
       "      <td>2.321118</td>\n",
       "      <td>2.708612</td>\n",
       "      <td>1.961760</td>\n",
       "      <td>4.007009</td>\n",
       "      <td>4.050411</td>\n",
       "      <td>3.081040</td>\n",
       "      <td>2.258755</td>\n",
       "      <td>1.0</td>\n",
       "    </tr>\n",
       "    <tr>\n",
       "      <th>50%</th>\n",
       "      <td>23.547641</td>\n",
       "      <td>4.682267</td>\n",
       "      <td>5.511717</td>\n",
       "      <td>4.562429</td>\n",
       "      <td>4.896201</td>\n",
       "      <td>4.272829</td>\n",
       "      <td>5.692052</td>\n",
       "      <td>5.680239</td>\n",
       "      <td>4.894908</td>\n",
       "      <td>4.541672</td>\n",
       "      <td>1.0</td>\n",
       "    </tr>\n",
       "    <tr>\n",
       "      <th>75%</th>\n",
       "      <td>31.712101</td>\n",
       "      <td>6.350367</td>\n",
       "      <td>7.163294</td>\n",
       "      <td>5.997934</td>\n",
       "      <td>7.417331</td>\n",
       "      <td>6.386332</td>\n",
       "      <td>7.569856</td>\n",
       "      <td>7.870201</td>\n",
       "      <td>6.686562</td>\n",
       "      <td>6.551063</td>\n",
       "      <td>1.0</td>\n",
       "    </tr>\n",
       "    <tr>\n",
       "      <th>max</th>\n",
       "      <td>51.300863</td>\n",
       "      <td>10.559016</td>\n",
       "      <td>11.215865</td>\n",
       "      <td>10.167758</td>\n",
       "      <td>11.526455</td>\n",
       "      <td>10.031915</td>\n",
       "      <td>13.179536</td>\n",
       "      <td>11.988916</td>\n",
       "      <td>14.396580</td>\n",
       "      <td>13.319129</td>\n",
       "      <td>1.0</td>\n",
       "    </tr>\n",
       "  </tbody>\n",
       "</table>\n",
       "</div>"
      ],
      "text/plain": [
       "               y         x1         x2         x3         x4         x5  \\\n",
       "count  50.000000  50.000000  50.000000  50.000000  50.000000  50.000000   \n",
       "mean   24.038840   4.413367   5.134101   4.317427   5.095714   4.368622   \n",
       "std    10.687380   2.618149   2.883398   2.803299   3.212930   3.175544   \n",
       "min     1.390038  -1.160841  -0.336608  -2.503885  -3.023784  -1.811805   \n",
       "25%    17.818256   2.318125   2.573311   2.321118   2.708612   1.961760   \n",
       "50%    23.547641   4.682267   5.511717   4.562429   4.896201   4.272829   \n",
       "75%    31.712101   6.350367   7.163294   5.997934   7.417331   6.386332   \n",
       "max    51.300863  10.559016  11.215865  10.167758  11.526455  10.031915   \n",
       "\n",
       "              x6         x7         x8         x9  intercept  \n",
       "count  50.000000  50.000000  50.000000  50.000000       50.0  \n",
       "mean    5.568713   5.822354   5.006309   4.672567        1.0  \n",
       "std     2.876165   2.989535   3.340791   3.293853        0.0  \n",
       "min     0.027005  -1.374110  -3.734738  -2.741706        1.0  \n",
       "25%     4.007009   4.050411   3.081040   2.258755        1.0  \n",
       "50%     5.692052   5.680239   4.894908   4.541672        1.0  \n",
       "75%     7.569856   7.870201   6.686562   6.551063        1.0  \n",
       "max    13.179536  11.988916  14.396580  13.319129        1.0  "
      ]
     },
     "execution_count": 13,
     "metadata": {},
     "output_type": "execute_result"
    }
   ],
   "source": [
    "#super basic example: linear regression with homoskedastic errors\n",
    "#Y~N(mu+Xb,sigma2)\n",
    "# X is an 50x9 matrix where each column is gaussian(5,sd=3)\n",
    "N = 50\n",
    "Ntest = 40\n",
    "Xtrain = np.array([np.random.normal(5,3,size=N) for i in range(9)]).T\n",
    "Xtest = np.array([np.random.normal(5,3,size=Ntest) for i in range(9)]).T\n",
    "#X is a 50x9 design matrix of continuous covariates\n",
    "#print(\"colmeans: \", np.mean(X,0)) #column means, should be about 5\n",
    "#print(\"col sds: \", np.std(X,0)) #column stdevs, should be about 3\n",
    "beta0 = 33\n",
    "beta = np.array([-3,-1.5,-.5,-.25,-0.01,0.01,.5,1,1.5])\n",
    "#strong negative: 1,2\n",
    "#weak negative: 3,4\n",
    "#insignificant effects: 5,6\n",
    "#weak positive: 7\n",
    "#strong positive: 8,9\n",
    "sigma = 4 #fairly high level of noise\n",
    "yhat = Xtrain.dot(beta)+beta0\n",
    "ytrain = yhat+np.random.normal(0,sigma,size=N)\n",
    "ytest = Xtest.dot(beta)+beta0+np.random.normal(0,sigma,size=Ntest)\n",
    "df = pd.DataFrame(np.hstack((ytrain.reshape(N,1),Xtrain)))\n",
    "df.columns = [\"y\"]+[\"x\"+str(i) for i in range(1,10)]\n",
    "dftest = pd.DataFrame(np.hstack((ytest.reshape(Ntest,1),Xtest)))\n",
    "dftest.columns = df.columns\n",
    "df[\"intercept\"]=1.0\n",
    "dftest[\"intercept\"] = 1.0\n",
    "#df.head()\n",
    "df.describe()"
   ]
  },
  {
   "cell_type": "markdown",
   "metadata": {},
   "source": [
    "### Maximum Likelihood\n",
    "\n",
    "First we will try the frequentist approach of maximum likelihood, provided in python by the **statsmodels** package"
   ]
  },
  {
   "cell_type": "code",
   "execution_count": 14,
   "metadata": {
    "collapsed": false
   },
   "outputs": [
    {
     "data": {
      "text/html": [
       "<table class=\"simpletable\">\n",
       "<caption>Generalized Linear Model Regression Results</caption>\n",
       "<tr>\n",
       "  <th>Dep. Variable:</th>          <td>y</td>        <th>  No. Observations:  </th>    <td>    50</td>    \n",
       "</tr>\n",
       "<tr>\n",
       "  <th>Model:</th>                 <td>GLM</td>       <th>  Df Residuals:      </th>    <td>    40</td>    \n",
       "</tr>\n",
       "<tr>\n",
       "  <th>Model Family:</th>       <td>Gaussian</td>     <th>  Df Model:          </th>    <td>     9</td>    \n",
       "</tr>\n",
       "<tr>\n",
       "  <th>Link Function:</th>      <td>identity</td>     <th>  Scale:             </th> <td>13.7198829887</td>\n",
       "</tr>\n",
       "<tr>\n",
       "  <th>Method:</th>               <td>IRLS</td>       <th>  Log-Likelihood:    </th>   <td> -130.84</td>   \n",
       "</tr>\n",
       "<tr>\n",
       "  <th>Date:</th>           <td>Wed, 22 Mar 2017</td> <th>  Deviance:          </th>   <td>  548.80</td>   \n",
       "</tr>\n",
       "<tr>\n",
       "  <th>Time:</th>               <td>14:48:59</td>     <th>  Pearson chi2:      </th>    <td>  549.</td>    \n",
       "</tr>\n",
       "<tr>\n",
       "  <th>No. Iterations:</th>         <td>4</td>        <th>                     </th>       <td> </td>      \n",
       "</tr>\n",
       "</table>\n",
       "<table class=\"simpletable\">\n",
       "<tr>\n",
       "      <td></td>         <th>coef</th>     <th>std err</th>      <th>z</th>      <th>P>|z|</th> <th>[95.0% Conf. Int.]</th> \n",
       "</tr>\n",
       "<tr>\n",
       "  <th>x1</th>        <td>   -2.9526</td> <td>    0.216</td> <td>  -13.684</td> <td> 0.000</td> <td>   -3.376    -2.530</td>\n",
       "</tr>\n",
       "<tr>\n",
       "  <th>x2</th>        <td>   -1.3272</td> <td>    0.219</td> <td>   -6.058</td> <td> 0.000</td> <td>   -1.757    -0.898</td>\n",
       "</tr>\n",
       "<tr>\n",
       "  <th>x3</th>        <td>   -0.3150</td> <td>    0.205</td> <td>   -1.536</td> <td> 0.125</td> <td>   -0.717     0.087</td>\n",
       "</tr>\n",
       "<tr>\n",
       "  <th>x4</th>        <td>   -0.1249</td> <td>    0.203</td> <td>   -0.614</td> <td> 0.539</td> <td>   -0.523     0.274</td>\n",
       "</tr>\n",
       "<tr>\n",
       "  <th>x5</th>        <td>    0.0123</td> <td>    0.180</td> <td>    0.069</td> <td> 0.945</td> <td>   -0.340     0.364</td>\n",
       "</tr>\n",
       "<tr>\n",
       "  <th>x6</th>        <td>    0.1679</td> <td>    0.210</td> <td>    0.798</td> <td> 0.425</td> <td>   -0.244     0.580</td>\n",
       "</tr>\n",
       "<tr>\n",
       "  <th>x7</th>        <td>    0.9011</td> <td>    0.228</td> <td>    3.956</td> <td> 0.000</td> <td>    0.455     1.348</td>\n",
       "</tr>\n",
       "<tr>\n",
       "  <th>x8</th>        <td>    1.0703</td> <td>    0.174</td> <td>    6.139</td> <td> 0.000</td> <td>    0.729     1.412</td>\n",
       "</tr>\n",
       "<tr>\n",
       "  <th>x9</th>        <td>    1.5869</td> <td>    0.186</td> <td>    8.538</td> <td> 0.000</td> <td>    1.223     1.951</td>\n",
       "</tr>\n",
       "<tr>\n",
       "  <th>intercept</th> <td>   26.8718</td> <td>    3.349</td> <td>    8.024</td> <td> 0.000</td> <td>   20.308    33.436</td>\n",
       "</tr>\n",
       "</table>"
      ],
      "text/plain": [
       "<class 'statsmodels.iolib.summary.Summary'>\n",
       "\"\"\"\n",
       "                 Generalized Linear Model Regression Results                  \n",
       "==============================================================================\n",
       "Dep. Variable:                      y   No. Observations:                   50\n",
       "Model:                            GLM   Df Residuals:                       40\n",
       "Model Family:                Gaussian   Df Model:                            9\n",
       "Link Function:               identity   Scale:                   13.7198829887\n",
       "Method:                          IRLS   Log-Likelihood:                -130.84\n",
       "Date:                Wed, 22 Mar 2017   Deviance:                       548.80\n",
       "Time:                        14:48:59   Pearson chi2:                     549.\n",
       "No. Iterations:                     4                                         \n",
       "==============================================================================\n",
       "                 coef    std err          z      P>|z|      [95.0% Conf. Int.]\n",
       "------------------------------------------------------------------------------\n",
       "x1            -2.9526      0.216    -13.684      0.000        -3.376    -2.530\n",
       "x2            -1.3272      0.219     -6.058      0.000        -1.757    -0.898\n",
       "x3            -0.3150      0.205     -1.536      0.125        -0.717     0.087\n",
       "x4            -0.1249      0.203     -0.614      0.539        -0.523     0.274\n",
       "x5             0.0123      0.180      0.069      0.945        -0.340     0.364\n",
       "x6             0.1679      0.210      0.798      0.425        -0.244     0.580\n",
       "x7             0.9011      0.228      3.956      0.000         0.455     1.348\n",
       "x8             1.0703      0.174      6.139      0.000         0.729     1.412\n",
       "x9             1.5869      0.186      8.538      0.000         1.223     1.951\n",
       "intercept     26.8718      3.349      8.024      0.000        20.308    33.436\n",
       "==============================================================================\n",
       "\"\"\""
      ]
     },
     "execution_count": 14,
     "metadata": {},
     "output_type": "execute_result"
    }
   ],
   "source": [
    "mod1 = sm.GLM(df[\"y\"],df[df.columns[1:]],family=sm.families.Gaussian())\n",
    "mod1 = mod1.fit()\n",
    "mod1.summary()"
   ]
  },
  {
   "cell_type": "code",
   "execution_count": 15,
   "metadata": {
    "collapsed": false
   },
   "outputs": [
    {
     "data": {
      "text/plain": [
       "13.5217933856571"
      ]
     },
     "execution_count": 15,
     "metadata": {},
     "output_type": "execute_result"
    }
   ],
   "source": [
    "ypred1 = mod1.predict(dftest[dftest.columns[1:]])\n",
    "#root mean square prediction error\n",
    "err1 = np.mean((ypred1-ytest)**2)\n",
    "err1 #OLS prediction error"
   ]
  },
  {
   "cell_type": "markdown",
   "metadata": {},
   "source": [
    "## Edward\n",
    "\n",
    "### Maximum Likelihood\n",
    "\n",
    "Edward supports maximum likelihood estimation (point estimates) of model parameters. However, you cannot actually inspect the parameter values. They are hidden inside the result object."
   ]
  },
  {
   "cell_type": "code",
   "execution_count": 27,
   "metadata": {
    "collapsed": false
   },
   "outputs": [
    {
     "name": "stdout",
     "output_type": "stream",
     "text": [
      "Iteration    1 [  0%]: Loss = 753.438\n",
      "Iteration  100 [ 10%]: Loss = 206.568\n",
      "Iteration  200 [ 20%]: Loss = 202.564\n",
      "Iteration  300 [ 30%]: Loss = 198.761\n",
      "Iteration  400 [ 40%]: Loss = 195.450\n",
      "Iteration  500 [ 50%]: Loss = 192.716\n",
      "Iteration  600 [ 60%]: Loss = 190.522\n",
      "Iteration  700 [ 70%]: Loss = 188.789\n",
      "Iteration  800 [ 80%]: Loss = 187.432\n",
      "Iteration  900 [ 90%]: Loss = 186.372\n",
      "Iteration 1000 [100%]: Loss = 185.545\n"
     ]
    }
   ],
   "source": [
    "from edward.models import Normal\n",
    "\n",
    "D = Xtest.shape[1]\n",
    "X = tf.placeholder(tf.float32, [N, D]) #placeholder for data\n",
    "#define likelihood and specify model parameters as variables (ie no priors)\n",
    "b0 = tf.Variable(0.0)\n",
    "#b0 = tf.Print(b0,[b0])\n",
    "#b = tf.Variable(tf.zeros(D))\n",
    "b = Normal(mu=tf.zeros(D), sigma=100*tf.ones(D))\n",
    "y = Normal(mu=ed.dot(X, b) + b0, sigma=sigma*tf.ones(N))\n",
    "#use empty dict {} to force MLE instead of bayesian\n",
    "mle = ed.MAP([b], {y:ytrain,X:Xtrain})\n",
    "mle.run()"
   ]
  },
  {
   "cell_type": "code",
   "execution_count": 28,
   "metadata": {
    "collapsed": false
   },
   "outputs": [
    {
     "data": {
      "text/plain": [
       "17.429686"
      ]
     },
     "execution_count": 28,
     "metadata": {},
     "output_type": "execute_result"
    }
   ],
   "source": [
    "#inspect the estimated values for the parameters\n",
    "sess = ed.get_session()\n",
    "sess.run(b0)"
   ]
  },
  {
   "cell_type": "code",
   "execution_count": 29,
   "metadata": {
    "collapsed": false
   },
   "outputs": [
    {
     "data": {
      "text/plain": [
       "array([-111.49196625, -123.86114502, -161.34527588,  -39.96683121,\n",
       "       -170.55706787, -113.93430328,  152.57043457,  -18.46553421,\n",
       "        123.71065521], dtype=float32)"
      ]
     },
     "execution_count": 29,
     "metadata": {},
     "output_type": "execute_result"
    }
   ],
   "source": [
    "b.eval()"
   ]
  },
  {
   "cell_type": "code",
   "execution_count": 30,
   "metadata": {
    "collapsed": false
   },
   "outputs": [
    {
     "name": "stdout",
     "output_type": "stream",
     "text": [
      "Mean squared error on test data:\n",
      "4287.95\n"
     ]
    }
   ],
   "source": [
    "#sess = ed.get_session()\n",
    "#form posterior predictive distribution\n",
    "Xt = tf.placeholder(tf.float32, [Ntest,D])\n",
    "yt = Normal(ed.dot(Xt,b)+b0,sigma=sigma*tf.ones(Ntest))\n",
    "print(\"Mean squared error on test data:\")\n",
    "print(ed.evaluate('mean_squared_error', data={Xt: Xtest, yt: ytest}))"
   ]
  },
  {
   "cell_type": "markdown",
   "metadata": {},
   "source": [
    "### Maximum A Posteriori\n",
    "Now we will try to solve the same problem using Edward. First attempt is MAP estimation, some code here is copied from [Edward tutorial](http://edwardlib.org/tutorials/supervised-regression)"
   ]
  },
  {
   "cell_type": "code",
   "execution_count": 31,
   "metadata": {
    "collapsed": false
   },
   "outputs": [
    {
     "name": "stdout",
     "output_type": "stream",
     "text": [
      "Iteration    1 [  0%]: Loss = 2977096.500\n",
      "Iteration  100 [ 10%]: Loss = 1334589.125\n",
      "Iteration  200 [ 20%]: Loss = 1932861.125\n",
      "Iteration  300 [ 30%]: Loss = 1370627.250\n",
      "Iteration  400 [ 40%]: Loss = 1168183.125\n",
      "Iteration  500 [ 50%]: Loss = 8019773.000\n",
      "Iteration  600 [ 60%]: Loss = 7719394.500\n",
      "Iteration  700 [ 70%]: Loss = 1694345.250\n",
      "Iteration  800 [ 80%]: Loss = 1142396.875\n",
      "Iteration  900 [ 90%]: Loss = 9116440.000\n",
      "Iteration 1000 [100%]: Loss = 3469600.250\n"
     ]
    }
   ],
   "source": [
    "#define priors for model parameters\n",
    "b = Normal(mu=tf.zeros(D), sigma=tf.ones(D))\n",
    "b0 = Normal(mu=tf.zeros(1), sigma=tf.ones(1))\n",
    "inference = ed.MAP([b0,b], {y:ytrain,X:Xtrain})\n",
    "inference.run()"
   ]
  },
  {
   "cell_type": "code",
   "execution_count": 35,
   "metadata": {
    "collapsed": false
   },
   "outputs": [
    {
     "data": {
      "text/plain": [
       "array([-0.56545317], dtype=float32)"
      ]
     },
     "execution_count": 35,
     "metadata": {},
     "output_type": "execute_result"
    }
   ],
   "source": [
    "b0.eval()"
   ]
  },
  {
   "cell_type": "code",
   "execution_count": 33,
   "metadata": {
    "collapsed": false
   },
   "outputs": [
    {
     "name": "stdout",
     "output_type": "stream",
     "text": [
      "Mean squared error on test data:\n",
      "791.231\n"
     ]
    }
   ],
   "source": [
    "yt = Normal(ed.dot(Xt,b)+b0,sigma=sigma*tf.ones(Ntest))\n",
    "print(\"Mean squared error on test data:\")\n",
    "print(ed.evaluate('mean_squared_error', data={Xt: Xtest, yt: ytest}))"
   ]
  },
  {
   "cell_type": "code",
   "execution_count": 153,
   "metadata": {
    "collapsed": false
   },
   "outputs": [
    {
     "name": "stdout",
     "output_type": "stream",
     "text": [
      "<edward.inferences.map.MAP object at 0x121b6fb38>\n"
     ]
    }
   ],
   "source": []
  },
  {
   "cell_type": "code",
   "execution_count": 148,
   "metadata": {
    "collapsed": false
   },
   "outputs": [
    {
     "name": "stdout",
     "output_type": "stream",
     "text": [
      "Iteration    1 [  0%]: Loss = 3020.843\n",
      "Iteration  100 [ 10%]: Loss = 244.376\n",
      "Iteration  200 [ 20%]: Loss = 220.132\n",
      "Iteration  300 [ 30%]: Loss = 219.095\n",
      "Iteration  400 [ 40%]: Loss = 218.850\n",
      "Iteration  500 [ 50%]: Loss = 218.782\n",
      "Iteration  600 [ 60%]: Loss = 218.765\n",
      "Iteration  700 [ 70%]: Loss = 218.761\n",
      "Iteration  800 [ 80%]: Loss = 218.760\n",
      "Iteration  900 [ 90%]: Loss = 218.759\n",
      "Iteration 1000 [100%]: Loss = 218.759\n"
     ]
    }
   ],
   "source": []
  },
  {
   "cell_type": "code",
   "execution_count": 149,
   "metadata": {
    "collapsed": false
   },
   "outputs": [
    {
     "data": {
      "text/plain": [
       "['__class__',\n",
       " '__delattr__',\n",
       " '__dict__',\n",
       " '__dir__',\n",
       " '__doc__',\n",
       " '__eq__',\n",
       " '__format__',\n",
       " '__ge__',\n",
       " '__getattribute__',\n",
       " '__gt__',\n",
       " '__hash__',\n",
       " '__init__',\n",
       " '__init_subclass__',\n",
       " '__le__',\n",
       " '__lt__',\n",
       " '__module__',\n",
       " '__ne__',\n",
       " '__new__',\n",
       " '__reduce__',\n",
       " '__reduce_ex__',\n",
       " '__repr__',\n",
       " '__setattr__',\n",
       " '__sizeof__',\n",
       " '__str__',\n",
       " '__subclasshook__',\n",
       " '__weakref__',\n",
       " 'build_loss_and_gradients',\n",
       " 'coord',\n",
       " 'data',\n",
       " 'debug',\n",
       " 'finalize',\n",
       " 'increment_t',\n",
       " 'initialize',\n",
       " 'latent_vars',\n",
       " 'logging',\n",
       " 'loss',\n",
       " 'n_iter',\n",
       " 'n_print',\n",
       " 'print_progress',\n",
       " 'run',\n",
       " 'scale',\n",
       " 't',\n",
       " 'threads',\n",
       " 'train',\n",
       " 'update']"
      ]
     },
     "execution_count": 149,
     "metadata": {},
     "output_type": "execute_result"
    }
   ],
   "source": [
    "dir(inference)"
   ]
  },
  {
   "cell_type": "code",
   "execution_count": 141,
   "metadata": {
    "collapsed": false
   },
   "outputs": [
    {
     "data": {
      "text/plain": [
       "(50, 1)"
      ]
     },
     "execution_count": 141,
     "metadata": {},
     "output_type": "execute_result"
    }
   ],
   "source": [
    "ytrain.shape"
   ]
  },
  {
   "cell_type": "code",
   "execution_count": null,
   "metadata": {
    "collapsed": true
   },
   "outputs": [],
   "source": []
  }
 ],
 "metadata": {
  "kernelspec": {
   "display_name": "Python 3",
   "language": "python",
   "name": "python3"
  },
  "language_info": {
   "codemirror_mode": {
    "name": "ipython",
    "version": 3
   },
   "file_extension": ".py",
   "mimetype": "text/x-python",
   "name": "python",
   "nbconvert_exporter": "python",
   "pygments_lexer": "ipython3",
   "version": "3.6.0"
  }
 },
 "nbformat": 4,
 "nbformat_minor": 2
}
