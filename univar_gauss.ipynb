{
 "cells": [
  {
   "cell_type": "markdown",
   "metadata": {},
   "source": [
    "# Univariate Gaussian Parameter Estimation\n",
    "\n",
    "Testing out capabilities of [Edward](http://edwardlib.org/) using a simple Gaussian model. The data are given by $x\\sim\\mathcal{N}(\\mu,\\sigma^2)$. We want to find out $\\mu$ and $\\sigma^2$."
   ]
  },
  {
   "cell_type": "code",
   "execution_count": 4,
   "metadata": {
    "collapsed": true
   },
   "outputs": [],
   "source": [
    "import edward as ed\n",
    "from edward.models import Normal,PointMass\n",
    "import tensorflow as tf\n",
    "import matplotlib.pyplot as plt\n",
    "import numpy as np\n",
    "%matplotlib inline\n",
    "plt.style.use('ggplot')"
   ]
  },
  {
   "cell_type": "code",
   "execution_count": 42,
   "metadata": {
    "collapsed": false
   },
   "outputs": [
    {
     "data": {
      "image/png": "[encoded data removed]",
      "text/plain": [
       "<matplotlib.figure.Figure at 0x122da9358>"
      ]
     },
     "metadata": {},
     "output_type": "display_data"
    }
   ],
   "source": [
    "mu_true = 5\n",
    "sd_true = 2\n",
    "N = 100\n",
    "xtrain = np.random.normal(mu_true,sd_true,size=N)\n",
    "plt.title(\"Histogram of observed data\")\n",
    "plt.hist(xtrain, 30)\n",
    "plt.show()"
   ]
  },
  {
   "cell_type": "code",
   "execution_count": 43,
   "metadata": {
    "collapsed": false
   },
   "outputs": [
    {
     "name": "stdout",
     "output_type": "stream",
     "text": [
      "mean=  4.74461219575\n",
      "SD=  2.11484550658\n"
     ]
    }
   ],
   "source": [
    "print(\"mean= \",xtrain.mean())\n",
    "print(\"SD= \", xtrain.std())"
   ]
  },
  {
   "cell_type": "markdown",
   "metadata": {},
   "source": [
    "## Maximum Likelihood"
   ]
  },
  {
   "cell_type": "code",
   "execution_count": 56,
   "metadata": {
    "collapsed": false
   },
   "outputs": [
    {
     "name": "stdout",
     "output_type": "stream",
     "text": [
      "Iteration    1 [  0%]: Loss = 1441.090\n",
      "Iteration  100 [ 10%]: Loss = 229.350\n",
      "Iteration  200 [ 20%]: Loss = 218.691\n",
      "Iteration  300 [ 30%]: Loss = 216.915\n",
      "Iteration  400 [ 40%]: Loss = 216.794\n",
      "Iteration  500 [ 50%]: Loss = 216.792\n",
      "Iteration  600 [ 60%]: Loss = 216.792\n",
      "Iteration  700 [ 70%]: Loss = 216.792\n",
      "Iteration  800 [ 80%]: Loss = 216.792\n",
      "Iteration  900 [ 90%]: Loss = 216.792\n",
      "Iteration 1000 [100%]: Loss = 216.792\n",
      "Point estimate of mu using ML:  4.74461\n",
      "Point estimate of sigma using ML:  2.11485\n"
     ]
    }
   ],
   "source": [
    "#edward model\n",
    "s = tf.Variable(1.0)\n",
    "m = tf.Variable(0.0)\n",
    "#m = Normal(0.0, 100.0)\n",
    "x = Normal(mu=m*tf.ones(N),sigma=s*tf.ones(N))\n",
    "#qm = PointMass(params=tf.Variable(0.0))\n",
    "#mle = ed.MAP({m:qm},{x:xtrain})\n",
    "#mle = ed.MAP([m],{x:xtrain})\n",
    "mle = ed.MAP({},{x:xtrain})\n",
    "mle.run()\n",
    "print(\"Point estimate of mu using ML: \", m.eval())\n",
    "print(\"Point estimate of sigma using ML: \", s.eval())"
   ]
  },
  {
   "cell_type": "markdown",
   "metadata": {},
   "source": [
    "We see that the MLEs from Edward agree with those computed by hand."
   ]
  },
  {
   "cell_type": "markdown",
   "metadata": {},
   "source": [
    "## Maximum a Posteriori (MAP)"
   ]
  },
  {
   "cell_type": "code",
   "execution_count": 61,
   "metadata": {
    "collapsed": false
   },
   "outputs": [
    {
     "name": "stdout",
     "output_type": "stream",
     "text": [
      "Iteration    1 [  0%]: Loss = 1444.311\n",
      "Iteration  100 [ 10%]: Loss = 232.660\n",
      "Iteration  200 [ 20%]: Loss = 222.028\n",
      "Iteration  300 [ 30%]: Loss = 220.249\n",
      "Iteration  400 [ 40%]: Loss = 220.128\n",
      "Iteration  500 [ 50%]: Loss = 220.126\n",
      "Iteration  600 [ 60%]: Loss = 220.126\n",
      "Iteration  700 [ 70%]: Loss = 220.126\n",
      "Iteration  800 [ 80%]: Loss = 220.126\n",
      "Iteration  900 [ 90%]: Loss = 220.126\n",
      "Iteration 1000 [100%]: Loss = 220.126\n",
      "Point estimate of mu using MAP:  4.74249\n",
      "Point estimate of sigma using ML:  2.11485\n"
     ]
    }
   ],
   "source": [
    "#edward model\n",
    "s = tf.Variable(1.0)\n",
    "m = Normal(0.0, 10.0) #weak prior for m\n",
    "x = Normal(mu=m*tf.ones(N),sigma=s*tf.ones(N))\n",
    "qm = PointMass(params=tf.Variable(0.0))\n",
    "res = ed.MAP({m:qm},{x:xtrain})\n",
    "res.run()\n",
    "#sess = ed.get_session()\n",
    "print(\"Point estimate of mu using MAP: \", qm.eval())\n",
    "print(\"Point estimate of sigma using ML: \", s.eval())"
   ]
  },
  {
   "cell_type": "code",
   "execution_count": null,
   "metadata": {
    "collapsed": true
   },
   "outputs": [],
   "source": []
  }
 ],
 "metadata": {
  "kernelspec": {
   "display_name": "Python 3",
   "language": "python",
   "name": "python3"
  },
  "language_info": {
   "codemirror_mode": {
    "name": "ipython",
    "version": 3
   },
   "file_extension": ".py",
   "mimetype": "text/x-python",
   "name": "python",
   "nbconvert_exporter": "python",
   "pygments_lexer": "ipython3",
   "version": "3.6.0"
  }
 },
 "nbformat": 4,
 "nbformat_minor": 2
}
